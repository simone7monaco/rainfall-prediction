{
 "cells": [
  {
   "cell_type": "code",
   "execution_count": null,
   "id": "40bd175f-4c89-44be-a703-4732d68126f0",
   "metadata": {
    "tags": []
   },
   "outputs": [],
   "source": [
    "from pathlib import Path\n",
    "import torch\n",
    "import numpy as np\n",
    "import os\n",
    "import pandas as pd\n",
    "\n",
    "from torch import cuda\n",
    "import pytorch_lightning as pl\n",
    "from pytorch_lightning.callbacks.model_checkpoint import ModelCheckpoint\n",
    "import seaborn as sns\n",
    "import matplotlib.pyplot as plt\n",
    "from sklearn.model_selection import StratifiedKFold\n",
    "\n",
    "os.chdir(\"..\")\n",
    "from utils import io\n",
    "from models import SegmentationModel"
   ]
  },
  {
   "cell_type": "code",
   "execution_count": null,
   "id": "49a535d2",
   "metadata": {
    "tags": []
   },
   "outputs": [],
   "source": [
    "lv_thresholds=[1, 5, 10, 20, 50, 100, 150]\n",
    "prob_th = []\n",
    "y_prob_th = []\n",
    "dates=[]\n",
    "prob = []\n",
    "os.chdir(f\"/home/students/s265780/rainfall-prob-sigmoid/rainfall-prediction/proba/1/\")\n",
    "pred_date = os.scandir()\n",
    "for file in pred_date:\n",
    "    dates.append(file.name[4:12])\n",
    "os.chdir(\"..\")\n",
    "dates = ['20200519',  #split_8 seed 42\n",
    " '20220423',\n",
    " '20180611',\n",
    " '20191127',\n",
    " '20201207',\n",
    " '20191104',\n",
    " '20210708',\n",
    " '20200824',\n",
    " '20200501',\n",
    " '20191120',\n",
    " '20181106',\n",
    " '20181029',\n",
    " '20190424',\n",
    " '20210716',\n",
    " '20200710',\n",
    " '20190807',\n",
    " '20180603',\n",
    " '20191119',\n",
    " '20180831',\n",
    " '20220401',\n",
    " '20200510',\n",
    " '20191107',\n",
    " '20220331',\n",
    " '20200312',\n",
    " '20210506',\n",
    " '20190525',\n",
    " '20180720',\n",
    " '20210530',\n",
    " '20210623',\n",
    " '20190725',\n",
    " '20220506',\n",
    " '20220425',\n",
    " '20200815',\n",
    " '20190610',\n",
    " '20191121',\n",
    " '20211110',\n",
    " '20220508',\n",
    " '20200513',\n",
    " '20200730',\n",
    " '20181108',\n",
    " '20200816',\n",
    " '20220524',\n",
    " '20190811',\n",
    " '20200907',\n",
    " '20180531']"
   ]
  },
  {
   "cell_type": "code",
   "execution_count": null,
   "id": "6274794e-8597-480d-b2e9-b7d3cf8b2091",
   "metadata": {
    "tags": []
   },
   "outputs": [],
   "source": [
    "os.chdir(\"..\")\n",
    "model = SegmentationModel.load_from_checkpoint(Path(\"/home/students/s265780/rainfall-prob-sigmoid/rainfall-prediction/lightning_logs/unet/split_8/epoch=28-train_loss=0.21.ckpt\"))\n",
    "model.eval();\n",
    "\n",
    "input_path = Path(\"/home/students/s265780/data/24h_10mmMAX_OI\")\n",
    "seed=42\n",
    "n_split=8\n",
    "#dates = pd.read_csv(input_path / \"split/cluster_all_dates.csv\", sep=\";\")\n",
    "#skf = StratifiedKFold(n_splits=9, random_state=seed, shuffle=True)\n",
    "#train_index, test_index = list(skf.split(dates, dates.NAME))[n_split]\n",
    "#val_index, train_index = np.split(train_index, [len(test_index)])\n",
    "#train_dates = dates.iloc[train_index].DATA.values\n",
    "#val_dates = dates.iloc[val_index].DATA.values\n",
    "#test_dates = dates.iloc[test_index].DATA.values\n",
    "\n",
    "indices_one, indices_zero, mask = io.get_mask_indices(input_path, True) #why False?\n",
    "case_study_max=483.717752\n",
    "available_models = [\"bol00\", \"e1000\", \"c2200\", \"c5m00\"]\n",
    "x, y, in_features, out_features = io.load_data(input_path, dates, case_study_max, indices_one, indices_zero, available_models)"
   ]
  },
  {
   "cell_type": "code",
   "execution_count": null,
   "id": "734cb118-144a-4b9e-b0e9-32f5f12663e5",
   "metadata": {
    "tags": []
   },
   "outputs": [],
   "source": [
    "lv_thresholds=[1, 5, 10, 20, 50, 100, 150]\n",
    "prob_path = Path(\"proba/\")\n",
    "prob_th = []\n",
    "y_prob_th = []\n",
    "for lv in lv_thresholds:\n",
    "    (prob_path/str(lv)).mkdir(exist_ok=True)\n",
    "    prob = []\n",
    "    for date in dates:\n",
    "        df = pd.read_csv(prob_path/f\"{lv}/pred{date}.csv\", header=None)\n",
    "        prob.append(df.values)\n",
    "    probs = np.stack(prob)\n",
    "    prob_th.append(probs)\n",
    "    y_prob_th.append(y*case_study_max > lv)\n",
    "probs_th = np.stack(prob_th)\n",
    "y_prob_th = np.stack(y_prob_th)"
   ]
  },
  {
   "cell_type": "code",
   "execution_count": null,
   "id": "ccd36ac4-4701-4a13-9c06-c9333a776802",
   "metadata": {
    "tags": []
   },
   "outputs": [],
   "source": [
    "#x = x[0:50] #cut dates or out of memory\n",
    "\n",
    "model.cuda()\n",
    "with torch.inference_mode():\n",
    "    y_logit, y_prob = model(torch.from_numpy(x).cuda(), None)\n",
    "y_hat = y_logit.squeeze().cpu().numpy()\n",
    "y_hat_prob = y_prob.cpu().numpy()"
   ]
  },
  {
   "cell_type": "code",
   "execution_count": null,
   "id": "5785a117-d66b-40d7-b32f-c6d2c6c344b0",
   "metadata": {
    "tags": []
   },
   "outputs": [],
   "source": [
    "m=33\n",
    "norm='linear'\n",
    "vmin=0\n",
    "vmax=1/5\n",
    "fig, axs = plt.subplots(2, 3, figsize=(15, 7))\n",
    "axs[0, 0].imshow(x[m][0], cmap='gray', norm=norm, vmin=vmin, vmax=vmax)\n",
    "axs[0, 0].set_title('bol00')\n",
    "axs[0, 1].imshow(x[m][1], cmap='gray', norm=norm, vmin=vmin, vmax=vmax)\n",
    "axs[0, 1].set_title('c2200')\n",
    "axs[1, 0].imshow(x[m][2], cmap='gray', norm=norm, vmin=vmin, vmax=vmax)\n",
    "axs[1, 0].set_title('c5m00')\n",
    "axs[1, 1].imshow(x[m][3], cmap='gray', norm=norm, vmin=vmin, vmax=vmax)\n",
    "axs[1, 1].set_title('e1000')\n",
    "axs[0, 2].imshow(y[m], cmap='gray', norm=norm, vmin=vmin, vmax=vmax)\n",
    "axs[0, 2].set_title('ground_thruth')\n",
    "#axs[1, 2].imshow(y_hat[m], cmap='gray', norm=norm, vmin=vmin, vmax=vmax)\n",
    "#axs[1, 2].set_title('model_pred')"
   ]
  },
  {
   "cell_type": "code",
   "execution_count": null,
   "id": "f5dc5a7d-6841-4d80-ae79-27372fe8ecc8",
   "metadata": {
    "tags": []
   },
   "outputs": [],
   "source": [
    "soglia=2\n",
    "m=33\n",
    "\n",
    "fig, axs = plt.subplots(1, 2, figsize=(25, 5))\n",
    "axs[0].imshow(probs_th[soglia][m], vmax=1, vmin=0, cmap=\"gray\")\n",
    "axs[0].set_title(\"model\")\n",
    "axs[1].imshow(y_prob_th[soglia][m], cmap=\"gray\")\n",
    "axs[1].set_title(\"ground truth\")\n",
    "\n",
    "ax = plt.axes(projection='3d')\n",
    "xdata = np.linspace(0, 128, 128)\n",
    "ydata = np.linspace(96, 0, 96)\n",
    "xx,yy=np.meshgrid(xdata,ydata)\n",
    "ax.scatter3D(xx, yy, y_hat_prob[m][soglia], c=probs_th[soglia][m], cmap='Greens');"
   ]
  },
  {
   "cell_type": "code",
   "execution_count": null,
   "id": "7252bc19-2069-4f3b-baae-035b4e5681c5",
   "metadata": {
    "tags": []
   },
   "outputs": [],
   "source": [
    "soglia=4\n",
    "probs = probs_th[soglia]\n",
    "bins=np.linspace(0.1, 1, 10)\n",
    "prob_bins = np.digitize(probs, bins)\n",
    "y_bins = np.where(y*case_study_max > lv_thresholds[soglia], 1 ,0)\n",
    "#plt.imshow(prob_bins)\n",
    "bins"
   ]
  },
  {
   "cell_type": "code",
   "execution_count": null,
   "id": "d09a0378-33ae-4d05-b637-5a8248f79896",
   "metadata": {
    "tags": []
   },
   "outputs": [],
   "source": [
    "p_emp = []\n",
    "p_emp_var = []\n",
    "p = []\n",
    "size=[]\n",
    "for i in range(len(bins)):\n",
    "    indx = np.where((prob_bins==i) & (mask==1))\n",
    "    p.append(probs[indx].mean())\n",
    "    p_emp.append(y_bins[indx].mean())\n",
    "    p_emp_var.append(y_bins[indx].var())\n",
    "    size.append(len(indx[0])/200)"
   ]
  },
  {
   "cell_type": "code",
   "execution_count": null,
   "id": "cd389e06-1c7b-434f-ba41-04913ffd9e18",
   "metadata": {
    "tags": []
   },
   "outputs": [],
   "source": [
    "plt.scatter(p, p_emp, s=size)"
   ]
  },
  {
   "cell_type": "code",
   "execution_count": null,
   "id": "c045f945-bbe0-43c3-90ab-aed453b9a629",
   "metadata": {
    "tags": []
   },
   "outputs": [],
   "source": [
    "plt.errorbar(p, p_emp, yerr=p_emp_var)\n",
    "plt.plot([0, 1], [0, 1])"
   ]
  },
  {
   "cell_type": "code",
   "execution_count": null,
   "id": "84353f63-85dc-43b4-990e-50355d358b82",
   "metadata": {},
   "outputs": [],
   "source": [
    "from sklearn.calibration import calibration_curve"
   ]
  },
  {
   "cell_type": "code",
   "execution_count": null,
   "id": "aa511493-f963-4991-bcc3-19d1c1d18407",
   "metadata": {
    "tags": []
   },
   "outputs": [],
   "source": [
    "n_bins=10\n",
    "soglia=1\n",
    "x_, y_ = calibration_curve(y_prob_th[soglia].flatten(), probs_th[soglia].flatten(), n_bins=n_bins, strategy='quantile')\n",
    "ece = np.mean(np.abs(x_ - y_))\n",
    "ece"
   ]
  },
  {
   "cell_type": "code",
   "execution_count": null,
   "id": "340a1a96-90bf-4364-9433-29852188579f",
   "metadata": {},
   "outputs": [],
   "source": [
    "eps=1e-10\n",
    "probs = probs_th[soglia,:,mask==1].flatten()\n",
    "y_true_gt=y_prob_th[soglia,:,mask==1].flatten()\n",
    "kl_prob_gt = -np.mean(probs * np.log((y_true_gt + eps) / (probs + eps)) \\\n",
    "                      +(1 - probs) * np.log((1 - y_true_gt + eps) / (1-probs + eps)))\n",
    "kl_prob_gt"
   ]
  },
  {
   "cell_type": "code",
   "execution_count": null,
   "id": "9292d26b-e6df-44b3-a445-0e17343064e5",
   "metadata": {},
   "outputs": [],
   "source": []
  }
 ],
 "metadata": {
  "kernelspec": {
   "display_name": "Python 3",
   "language": "python",
   "name": "python3"
  },
  "language_info": {
   "codemirror_mode": {
    "name": "ipython",
    "version": 3
   },
   "file_extension": ".py",
   "mimetype": "text/x-python",
   "name": "python",
   "nbconvert_exporter": "python",
   "pygments_lexer": "ipython3",
   "version": "3.12.2"
  }
 },
 "nbformat": 4,
 "nbformat_minor": 5
}
