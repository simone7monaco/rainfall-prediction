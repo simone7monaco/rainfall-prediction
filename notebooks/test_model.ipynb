{
 "cells": [
  {
   "cell_type": "code",
   "execution_count": 2,
   "id": "e5e4a40a-bfe1-4296-88b2-6f07be1c9abc",
   "metadata": {
    "tags": []
   },
   "outputs": [],
   "source": [
    "from pathlib import Path\n",
    "import torch\n",
    "import numpy as np\n",
    "import os\n",
    "\n",
    "from torch import cuda\n",
    "import pytorch_lightning as pl\n",
    "from pytorch_lightning.callbacks.model_checkpoint import ModelCheckpoint\n",
    "import seaborn as sns\n",
    "import matplotlib.pyplot as plt\n",
    "\n",
    "os.chdir(\"..\")\n",
    "from utils import io\n",
    "from models import SegmentationModel"
   ]
  },
  {
   "cell_type": "code",
   "execution_count": null,
   "id": "6ce20626-88ef-4500-9e47-6dadb415cd9b",
   "metadata": {
    "tags": []
   },
   "outputs": [],
   "source": [
    "#reports/unet_2/unet_2/epoch=85-val_rmse=7.71.ckpt  first ok\n",
    "#reports/unet_2/unet_2/epoch=86-val_rmse=8.59.ckpt add torch.where()\n",
    "#reports/unet_2/unet_2/epoch=72-val_rmse=7.35.ckpt add mask mult\n",
    "\n",
    "model = SegmentationModel.load_from_checkpoint(Path(\"rainfall-prediction/reports/unet_2/unet_2/epoch=64-val_rmse=5.22.ckpt\"))"
   ]
  },
  {
   "cell_type": "code",
   "execution_count": null,
   "id": "5698fa5a-3850-4870-a24e-add77b44ba50",
   "metadata": {
    "tags": []
   },
   "outputs": [],
   "source": [
    "model.eval();"
   ]
  },
  {
   "cell_type": "code",
   "execution_count": null,
   "id": "a048cce0-2db0-4133-b78c-4ea99664b64c",
   "metadata": {
    "tags": []
   },
   "outputs": [],
   "source": [
    "input_path = Path(\"data/24h_10mmMAX_OI\")\n",
    "indices_one, indices_zero, mask = io.get_mask_indices(input_path, True) #why False?\n",
    "case_study_max=483.717752\n",
    "available_models = [\"bol00\", \"e1000\", \"c2200\", \"c5m00\"]\n",
    "x, y, in_features, out_features = io.load_data('unet', input_path, [\"20180706\"], case_study_max, indices_one, indices_zero, available_models)\n"
   ]
  },
  {
   "cell_type": "code",
   "execution_count": null,
   "id": "8e338be1-9719-4ddf-a83a-78022b22836d",
   "metadata": {
    "tags": []
   },
   "outputs": [],
   "source": [
    "logit_seg, logit_class = model(torch.from_numpy(x).to('cuda'), None, None)\n",
    "\n",
    "logit_seg_numpy = logit_seg.squeeze().to('cpu').detach().numpy()\n",
    "logit_class = logit_class.squeeze().to('cpu').detach().numpy()\n",
    "\n",
    "#seg = torch.round(torch.sigmoid(logit_seg)).squeeze().to('cpu').detach().numpy()\n",
    "seg = logit_seg.sigmoid().gt(.5).squeeze().to('cpu').detach().numpy()\n",
    "\n",
    "y_seg = torch.heaviside(torch.from_numpy(y).to('cuda'), torch.tensor([0]).float().to('cuda')).squeeze().to('cpu').detach().numpy()\n",
    "y_seg_num = np.squeeze(np.where(y>0.001, 1, 0))"
   ]
  },
  {
   "cell_type": "code",
   "execution_count": null,
   "id": "90bcba12-dca1-421a-a084-364da2b97ec8",
   "metadata": {
    "tags": []
   },
   "outputs": [],
   "source": [
    "plt.imshow(seg, cmap='gray') #modello"
   ]
  },
  {
   "cell_type": "code",
   "execution_count": null,
   "id": "6e98d24e-22c2-4a9d-a768-6f99a538220e",
   "metadata": {
    "tags": []
   },
   "outputs": [],
   "source": [
    "plt.imshow(y_seg_num, cmap='gray') #ground thruth"
   ]
  },
  {
   "cell_type": "code",
   "execution_count": null,
   "id": "2528c9b7-1b4a-4abb-987b-ca0d68b68188",
   "metadata": {
    "tags": []
   },
   "outputs": [],
   "source": [
    "plt.imshow(y_seg_num-seg, cmap='gray') #parti bianche mancano nel modello"
   ]
  },
  {
   "cell_type": "code",
   "execution_count": null,
   "id": "0f7631e1-c3de-4d93-b6f0-b1b87f901869",
   "metadata": {},
   "outputs": [],
   "source": [
    "fig, axs = plt.subplots(2, 3)\n",
    "axs[0, 0].imshow(x[0][0], cmap='gray', norm='linear')\n",
    "axs[0, 0].set_title('bol00')\n",
    "axs[0, 1].imshow(x[0][1], cmap='gray', norm='linear')\n",
    "axs[0, 1].set_title('c2200')\n",
    "axs[1, 0].imshow(x[0][2], cmap='gray', norm='linear')\n",
    "axs[1, 0].set_title('c5m00')\n",
    "axs[1, 1].imshow(x[0][3], cmap='gray', norm='linear')\n",
    "axs[1, 1].set_title('e1000')\n",
    "axs[0, 2].imshow(y[0], cmap='gray', norm='linear')\n",
    "axs[0, 2].set_title('ground_thruth')\n",
    "axs[1, 2].imshow(logit_class*mask, cmap='gray', norm='linear')\n",
    "axs[1, 2].set_title('model_pred')"
   ]
  },
  {
   "cell_type": "code",
   "execution_count": null,
   "id": "3ef30f7d-5915-4be1-9259-9efdd454133b",
   "metadata": {
    "tags": []
   },
   "outputs": [],
   "source": [
    "mask.sum()"
   ]
  },
  {
   "cell_type": "code",
   "execution_count": null,
   "id": "582b5cfb-f527-48e8-a2ca-5832f124cef6",
   "metadata": {},
   "outputs": [],
   "source": []
  }
 ],
 "metadata": {
  "kernelspec": {
   "display_name": "Python [conda env:py310]",
   "language": "python",
   "name": "conda-env-py310-py"
  },
  "language_info": {
   "codemirror_mode": {
    "name": "ipython",
    "version": 3
   },
   "file_extension": ".py",
   "mimetype": "text/x-python",
   "name": "python",
   "nbconvert_exporter": "python",
   "pygments_lexer": "ipython3",
   "version": "3.10.10"
  }
 },
 "nbformat": 4,
 "nbformat_minor": 5
}
