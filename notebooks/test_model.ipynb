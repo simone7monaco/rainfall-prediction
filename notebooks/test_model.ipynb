{
 "cells": [
  {
   "cell_type": "code",
   "execution_count": 1,
   "id": "e5e4a40a-bfe1-4296-88b2-6f07be1c9abc",
   "metadata": {
    "tags": []
   },
   "outputs": [
    {
     "name": "stderr",
     "output_type": "stream",
     "text": [
      "/home/students/s265780/.conda-envs/py310/lib/python3.10/site-packages/tqdm/auto.py:21: TqdmWarning: IProgress not found. Please update jupyter and ipywidgets. See https://ipywidgets.readthedocs.io/en/stable/user_install.html\n",
      "  from .autonotebook import tqdm as notebook_tqdm\n"
     ]
    }
   ],
   "source": [
    "from pathlib import Path\n",
    "import torch\n",
    "import numpy as np\n",
    "import os\n",
    "\n",
    "from torch import cuda\n",
    "import pytorch_lightning as pl\n",
    "from pytorch_lightning.callbacks.model_checkpoint import ModelCheckpoint\n",
    "import seaborn as sns\n",
    "import matplotlib.pyplot as plt\n",
    "\n",
    "os.chdir(\"..\")\n",
    "from utils import io\n",
    "from models import SegmentationModel"
   ]
  },
  {
   "cell_type": "code",
   "execution_count": 21,
   "id": "6ce20626-88ef-4500-9e47-6dadb415cd9b",
   "metadata": {
    "tags": []
   },
   "outputs": [],
   "source": [
    "#reports/unet_2/unet_2/epoch=85-val_rmse=7.71.ckpt  first ok\n",
    "#reports/unet_2/unet_2/epoch=86-val_rmse=8.59.ckpt add torch.where()\n",
    "#reports/unet_2/unet_2/epoch=72-val_rmse=7.35.ckpt add mask mult\n",
    "#reports/unet/unet/epoch=97-val_rmse=7.87.ckpt unetL1\n",
    "#reports/unet/unet/epoch=85-val_rmse=7.90.ckpt unet\n",
    "#reports/unet/unet/epoch=0-val_rmse=24.06.ckpt unet 24.19 rmse\n",
    "#reports/unet/unet/epoch=85-val_rmse=7.06.ckpt unet 5.99 rmse\n",
    "\n",
    "model = SegmentationModel.load_from_checkpoint(Path(\"reports/unet/unet/epoch=90-val_rmse=7.14.ckpt\"))\n",
    "model.eval();"
   ]
  },
  {
   "cell_type": "code",
   "execution_count": 54,
   "id": "a048cce0-2db0-4133-b78c-4ea99664b64c",
   "metadata": {
    "tags": []
   },
   "outputs": [],
   "source": [
    "input_path = Path(\"/home/students/s265780/data/24h_10mmMAX_OI\")\n",
    "test_date_9 = [\n",
    "    \"20190807\", \"20181030\", \"20200329\", \"20200501\", \"20190505\", \"20200128\", \"20180825\",\n",
    "    \"20210807\", \"20210724\", \"20201006\", \"20210628\", \"20220518\", \"20190702\", \"20190802\",\n",
    "    \"20210617\", \"20190806\", \"20200519\", \"20190618\", \"20180817\", \"20180801\", \"20190703\",\n",
    "    \"20190714\", \"20220331\", \"20190906\", \"20181123\", \"20180720\", \"20200617\", \"20220524\",\n",
    "    \"20190919\", \"20210730\", \"20190424\", \"20191218\", \"20200609\", \"20180607\", \"20181124\",\n",
    "    \"20200801\", \"20210727\", \"20200420\", \"20211031\", \"20190828\", \"20190819\", \"20190412\",\n",
    "    \"20200627\", \"20210101\", \"20181029\", \"20200701\", \"20200616\", \"20200426\", \"20180714\",\n",
    "    \"20220528\", \"20200921\", \"20190908\", \"20200830\", \"20180813\", \"20191022\", \"20210831\",\n",
    "    \"20180830\", \"20210712\", \"20191014\", \"20180820\", \"20190710\", \"20210129\", \"20211004\"\n",
    "]\n",
    "\n",
    "indices_one, indices_zero, mask = io.get_mask_indices(input_path, True) #why False?\n",
    "case_study_max=483.717752\n",
    "available_models = [\"bol00\", \"e1000\", \"c2200\", \"c5m00\"]\n",
    "x, y, in_features, out_features = io.load_data('unet', input_path, test_date_9, case_study_max, indices_one, indices_zero, available_models)\n",
    "x[:, 1]=np.zeros((96,128))"
   ]
  },
  {
   "cell_type": "code",
   "execution_count": 55,
   "id": "8e338be1-9719-4ddf-a83a-78022b22836d",
   "metadata": {
    "tags": []
   },
   "outputs": [
    {
     "ename": "RuntimeError",
     "evalue": "Input type (torch.cuda.FloatTensor) and weight type (torch.FloatTensor) should be the same",
     "output_type": "error",
     "traceback": [
      "\u001b[0;31m---------------------------------------------------------------------------\u001b[0m",
      "\u001b[0;31mRuntimeError\u001b[0m                              Traceback (most recent call last)",
      "Cell \u001b[0;32mIn[55], line 1\u001b[0m\n\u001b[0;32m----> 1\u001b[0m logit_seg, logit_class \u001b[38;5;241m=\u001b[39m \u001b[43mmodel\u001b[49m\u001b[43m(\u001b[49m\u001b[43mtorch\u001b[49m\u001b[38;5;241;43m.\u001b[39;49m\u001b[43mfrom_numpy\u001b[49m\u001b[43m(\u001b[49m\u001b[43mx\u001b[49m\u001b[43m)\u001b[49m\u001b[38;5;241;43m.\u001b[39;49m\u001b[43mto\u001b[49m\u001b[43m(\u001b[49m\u001b[38;5;124;43m'\u001b[39;49m\u001b[38;5;124;43mcuda\u001b[39;49m\u001b[38;5;124;43m'\u001b[39;49m\u001b[43m)\u001b[49m\u001b[43m,\u001b[49m\u001b[43m \u001b[49m\u001b[38;5;28;43;01mNone\u001b[39;49;00m\u001b[43m)\u001b[49m\n\u001b[1;32m      3\u001b[0m \u001b[38;5;66;03m#logit_seg_numpy = logit_seg.squeeze().to('cpu').detach().numpy()\u001b[39;00m\n\u001b[1;32m      4\u001b[0m logit_class \u001b[38;5;241m=\u001b[39m logit_class\u001b[38;5;241m.\u001b[39msqueeze()\u001b[38;5;241m.\u001b[39mto(\u001b[38;5;124m'\u001b[39m\u001b[38;5;124mcpu\u001b[39m\u001b[38;5;124m'\u001b[39m)\u001b[38;5;241m.\u001b[39mdetach()\u001b[38;5;241m.\u001b[39mnumpy()\n",
      "File \u001b[0;32m~/.local/lib/python3.10/site-packages/torch/nn/modules/module.py:1511\u001b[0m, in \u001b[0;36mModule._wrapped_call_impl\u001b[0;34m(self, *args, **kwargs)\u001b[0m\n\u001b[1;32m   1509\u001b[0m     \u001b[38;5;28;01mreturn\u001b[39;00m \u001b[38;5;28mself\u001b[39m\u001b[38;5;241m.\u001b[39m_compiled_call_impl(\u001b[38;5;241m*\u001b[39margs, \u001b[38;5;241m*\u001b[39m\u001b[38;5;241m*\u001b[39mkwargs)  \u001b[38;5;66;03m# type: ignore[misc]\u001b[39;00m\n\u001b[1;32m   1510\u001b[0m \u001b[38;5;28;01melse\u001b[39;00m:\n\u001b[0;32m-> 1511\u001b[0m     \u001b[38;5;28;01mreturn\u001b[39;00m \u001b[38;5;28;43mself\u001b[39;49m\u001b[38;5;241;43m.\u001b[39;49m\u001b[43m_call_impl\u001b[49m\u001b[43m(\u001b[49m\u001b[38;5;241;43m*\u001b[39;49m\u001b[43margs\u001b[49m\u001b[43m,\u001b[49m\u001b[43m \u001b[49m\u001b[38;5;241;43m*\u001b[39;49m\u001b[38;5;241;43m*\u001b[39;49m\u001b[43mkwargs\u001b[49m\u001b[43m)\u001b[49m\n",
      "File \u001b[0;32m~/.local/lib/python3.10/site-packages/torch/nn/modules/module.py:1520\u001b[0m, in \u001b[0;36mModule._call_impl\u001b[0;34m(self, *args, **kwargs)\u001b[0m\n\u001b[1;32m   1515\u001b[0m \u001b[38;5;66;03m# If we don't have any hooks, we want to skip the rest of the logic in\u001b[39;00m\n\u001b[1;32m   1516\u001b[0m \u001b[38;5;66;03m# this function, and just call forward.\u001b[39;00m\n\u001b[1;32m   1517\u001b[0m \u001b[38;5;28;01mif\u001b[39;00m \u001b[38;5;129;01mnot\u001b[39;00m (\u001b[38;5;28mself\u001b[39m\u001b[38;5;241m.\u001b[39m_backward_hooks \u001b[38;5;129;01mor\u001b[39;00m \u001b[38;5;28mself\u001b[39m\u001b[38;5;241m.\u001b[39m_backward_pre_hooks \u001b[38;5;129;01mor\u001b[39;00m \u001b[38;5;28mself\u001b[39m\u001b[38;5;241m.\u001b[39m_forward_hooks \u001b[38;5;129;01mor\u001b[39;00m \u001b[38;5;28mself\u001b[39m\u001b[38;5;241m.\u001b[39m_forward_pre_hooks\n\u001b[1;32m   1518\u001b[0m         \u001b[38;5;129;01mor\u001b[39;00m _global_backward_pre_hooks \u001b[38;5;129;01mor\u001b[39;00m _global_backward_hooks\n\u001b[1;32m   1519\u001b[0m         \u001b[38;5;129;01mor\u001b[39;00m _global_forward_hooks \u001b[38;5;129;01mor\u001b[39;00m _global_forward_pre_hooks):\n\u001b[0;32m-> 1520\u001b[0m     \u001b[38;5;28;01mreturn\u001b[39;00m \u001b[43mforward_call\u001b[49m\u001b[43m(\u001b[49m\u001b[38;5;241;43m*\u001b[39;49m\u001b[43margs\u001b[49m\u001b[43m,\u001b[49m\u001b[43m \u001b[49m\u001b[38;5;241;43m*\u001b[39;49m\u001b[38;5;241;43m*\u001b[39;49m\u001b[43mkwargs\u001b[49m\u001b[43m)\u001b[49m\n\u001b[1;32m   1522\u001b[0m \u001b[38;5;28;01mtry\u001b[39;00m:\n\u001b[1;32m   1523\u001b[0m     result \u001b[38;5;241m=\u001b[39m \u001b[38;5;28;01mNone\u001b[39;00m\n",
      "File \u001b[0;32m~/rainfall-prediction/models.py:62\u001b[0m, in \u001b[0;36mSegmentationModel.forward\u001b[0;34m(self, x, times)\u001b[0m\n\u001b[1;32m     60\u001b[0m \tx2 \u001b[38;5;241m=\u001b[39m x \u001b[38;5;241m*\u001b[39m x_segmentation\n\u001b[1;32m     61\u001b[0m \t\u001b[38;5;28;01mreturn\u001b[39;00m x_logits_segmentation, \u001b[38;5;28mself\u001b[39m\u001b[38;5;241m.\u001b[39mcnn_1(x2)\u001b[38;5;241m*\u001b[39mx_segmentation\n\u001b[0;32m---> 62\u001b[0m \u001b[38;5;28;01mreturn\u001b[39;00m \u001b[38;5;28;01mNone\u001b[39;00m, \u001b[38;5;28;43mself\u001b[39;49m\u001b[38;5;241;43m.\u001b[39;49m\u001b[43mcnn\u001b[49m\u001b[43m(\u001b[49m\u001b[43mx\u001b[49m\u001b[43m)\u001b[49m\u001b[38;5;241m*\u001b[39m\u001b[38;5;28mself\u001b[39m\u001b[38;5;241m.\u001b[39mmask\n",
      "File \u001b[0;32m~/.local/lib/python3.10/site-packages/torch/nn/modules/module.py:1511\u001b[0m, in \u001b[0;36mModule._wrapped_call_impl\u001b[0;34m(self, *args, **kwargs)\u001b[0m\n\u001b[1;32m   1509\u001b[0m     \u001b[38;5;28;01mreturn\u001b[39;00m \u001b[38;5;28mself\u001b[39m\u001b[38;5;241m.\u001b[39m_compiled_call_impl(\u001b[38;5;241m*\u001b[39margs, \u001b[38;5;241m*\u001b[39m\u001b[38;5;241m*\u001b[39mkwargs)  \u001b[38;5;66;03m# type: ignore[misc]\u001b[39;00m\n\u001b[1;32m   1510\u001b[0m \u001b[38;5;28;01melse\u001b[39;00m:\n\u001b[0;32m-> 1511\u001b[0m     \u001b[38;5;28;01mreturn\u001b[39;00m \u001b[38;5;28;43mself\u001b[39;49m\u001b[38;5;241;43m.\u001b[39;49m\u001b[43m_call_impl\u001b[49m\u001b[43m(\u001b[49m\u001b[38;5;241;43m*\u001b[39;49m\u001b[43margs\u001b[49m\u001b[43m,\u001b[49m\u001b[43m \u001b[49m\u001b[38;5;241;43m*\u001b[39;49m\u001b[38;5;241;43m*\u001b[39;49m\u001b[43mkwargs\u001b[49m\u001b[43m)\u001b[49m\n",
      "File \u001b[0;32m~/.local/lib/python3.10/site-packages/torch/nn/modules/module.py:1520\u001b[0m, in \u001b[0;36mModule._call_impl\u001b[0;34m(self, *args, **kwargs)\u001b[0m\n\u001b[1;32m   1515\u001b[0m \u001b[38;5;66;03m# If we don't have any hooks, we want to skip the rest of the logic in\u001b[39;00m\n\u001b[1;32m   1516\u001b[0m \u001b[38;5;66;03m# this function, and just call forward.\u001b[39;00m\n\u001b[1;32m   1517\u001b[0m \u001b[38;5;28;01mif\u001b[39;00m \u001b[38;5;129;01mnot\u001b[39;00m (\u001b[38;5;28mself\u001b[39m\u001b[38;5;241m.\u001b[39m_backward_hooks \u001b[38;5;129;01mor\u001b[39;00m \u001b[38;5;28mself\u001b[39m\u001b[38;5;241m.\u001b[39m_backward_pre_hooks \u001b[38;5;129;01mor\u001b[39;00m \u001b[38;5;28mself\u001b[39m\u001b[38;5;241m.\u001b[39m_forward_hooks \u001b[38;5;129;01mor\u001b[39;00m \u001b[38;5;28mself\u001b[39m\u001b[38;5;241m.\u001b[39m_forward_pre_hooks\n\u001b[1;32m   1518\u001b[0m         \u001b[38;5;129;01mor\u001b[39;00m _global_backward_pre_hooks \u001b[38;5;129;01mor\u001b[39;00m _global_backward_hooks\n\u001b[1;32m   1519\u001b[0m         \u001b[38;5;129;01mor\u001b[39;00m _global_forward_hooks \u001b[38;5;129;01mor\u001b[39;00m _global_forward_pre_hooks):\n\u001b[0;32m-> 1520\u001b[0m     \u001b[38;5;28;01mreturn\u001b[39;00m \u001b[43mforward_call\u001b[49m\u001b[43m(\u001b[49m\u001b[38;5;241;43m*\u001b[39;49m\u001b[43margs\u001b[49m\u001b[43m,\u001b[49m\u001b[43m \u001b[49m\u001b[38;5;241;43m*\u001b[39;49m\u001b[38;5;241;43m*\u001b[39;49m\u001b[43mkwargs\u001b[49m\u001b[43m)\u001b[49m\n\u001b[1;32m   1522\u001b[0m \u001b[38;5;28;01mtry\u001b[39;00m:\n\u001b[1;32m   1523\u001b[0m     result \u001b[38;5;241m=\u001b[39m \u001b[38;5;28;01mNone\u001b[39;00m\n",
      "File \u001b[0;32m~/rainfall-prediction/networks/unet.py:65\u001b[0m, in \u001b[0;36mUNet.forward\u001b[0;34m(self, x)\u001b[0m\n\u001b[1;32m     63\u001b[0m \u001b[38;5;28;01mdef\u001b[39;00m \u001b[38;5;21mforward\u001b[39m(\u001b[38;5;28mself\u001b[39m, x):\n\u001b[1;32m     64\u001b[0m         \u001b[38;5;66;03m# Encoder\u001b[39;00m\n\u001b[0;32m---> 65\u001b[0m         xe11 \u001b[38;5;241m=\u001b[39m relu(\u001b[38;5;28;43mself\u001b[39;49m\u001b[38;5;241;43m.\u001b[39;49m\u001b[43me11\u001b[49m\u001b[43m(\u001b[49m\u001b[43mx\u001b[49m\u001b[43m)\u001b[49m)\n\u001b[1;32m     66\u001b[0m         xe12 \u001b[38;5;241m=\u001b[39m relu(\u001b[38;5;28mself\u001b[39m\u001b[38;5;241m.\u001b[39me12(xe11))\n\u001b[1;32m     67\u001b[0m         xp1 \u001b[38;5;241m=\u001b[39m \u001b[38;5;28mself\u001b[39m\u001b[38;5;241m.\u001b[39mpool1(xe12)\n",
      "File \u001b[0;32m~/.local/lib/python3.10/site-packages/torch/nn/modules/module.py:1511\u001b[0m, in \u001b[0;36mModule._wrapped_call_impl\u001b[0;34m(self, *args, **kwargs)\u001b[0m\n\u001b[1;32m   1509\u001b[0m     \u001b[38;5;28;01mreturn\u001b[39;00m \u001b[38;5;28mself\u001b[39m\u001b[38;5;241m.\u001b[39m_compiled_call_impl(\u001b[38;5;241m*\u001b[39margs, \u001b[38;5;241m*\u001b[39m\u001b[38;5;241m*\u001b[39mkwargs)  \u001b[38;5;66;03m# type: ignore[misc]\u001b[39;00m\n\u001b[1;32m   1510\u001b[0m \u001b[38;5;28;01melse\u001b[39;00m:\n\u001b[0;32m-> 1511\u001b[0m     \u001b[38;5;28;01mreturn\u001b[39;00m \u001b[38;5;28;43mself\u001b[39;49m\u001b[38;5;241;43m.\u001b[39;49m\u001b[43m_call_impl\u001b[49m\u001b[43m(\u001b[49m\u001b[38;5;241;43m*\u001b[39;49m\u001b[43margs\u001b[49m\u001b[43m,\u001b[49m\u001b[43m \u001b[49m\u001b[38;5;241;43m*\u001b[39;49m\u001b[38;5;241;43m*\u001b[39;49m\u001b[43mkwargs\u001b[49m\u001b[43m)\u001b[49m\n",
      "File \u001b[0;32m~/.local/lib/python3.10/site-packages/torch/nn/modules/module.py:1520\u001b[0m, in \u001b[0;36mModule._call_impl\u001b[0;34m(self, *args, **kwargs)\u001b[0m\n\u001b[1;32m   1515\u001b[0m \u001b[38;5;66;03m# If we don't have any hooks, we want to skip the rest of the logic in\u001b[39;00m\n\u001b[1;32m   1516\u001b[0m \u001b[38;5;66;03m# this function, and just call forward.\u001b[39;00m\n\u001b[1;32m   1517\u001b[0m \u001b[38;5;28;01mif\u001b[39;00m \u001b[38;5;129;01mnot\u001b[39;00m (\u001b[38;5;28mself\u001b[39m\u001b[38;5;241m.\u001b[39m_backward_hooks \u001b[38;5;129;01mor\u001b[39;00m \u001b[38;5;28mself\u001b[39m\u001b[38;5;241m.\u001b[39m_backward_pre_hooks \u001b[38;5;129;01mor\u001b[39;00m \u001b[38;5;28mself\u001b[39m\u001b[38;5;241m.\u001b[39m_forward_hooks \u001b[38;5;129;01mor\u001b[39;00m \u001b[38;5;28mself\u001b[39m\u001b[38;5;241m.\u001b[39m_forward_pre_hooks\n\u001b[1;32m   1518\u001b[0m         \u001b[38;5;129;01mor\u001b[39;00m _global_backward_pre_hooks \u001b[38;5;129;01mor\u001b[39;00m _global_backward_hooks\n\u001b[1;32m   1519\u001b[0m         \u001b[38;5;129;01mor\u001b[39;00m _global_forward_hooks \u001b[38;5;129;01mor\u001b[39;00m _global_forward_pre_hooks):\n\u001b[0;32m-> 1520\u001b[0m     \u001b[38;5;28;01mreturn\u001b[39;00m \u001b[43mforward_call\u001b[49m\u001b[43m(\u001b[49m\u001b[38;5;241;43m*\u001b[39;49m\u001b[43margs\u001b[49m\u001b[43m,\u001b[49m\u001b[43m \u001b[49m\u001b[38;5;241;43m*\u001b[39;49m\u001b[38;5;241;43m*\u001b[39;49m\u001b[43mkwargs\u001b[49m\u001b[43m)\u001b[49m\n\u001b[1;32m   1522\u001b[0m \u001b[38;5;28;01mtry\u001b[39;00m:\n\u001b[1;32m   1523\u001b[0m     result \u001b[38;5;241m=\u001b[39m \u001b[38;5;28;01mNone\u001b[39;00m\n",
      "File \u001b[0;32m~/.local/lib/python3.10/site-packages/torch/nn/modules/conv.py:460\u001b[0m, in \u001b[0;36mConv2d.forward\u001b[0;34m(self, input)\u001b[0m\n\u001b[1;32m    459\u001b[0m \u001b[38;5;28;01mdef\u001b[39;00m \u001b[38;5;21mforward\u001b[39m(\u001b[38;5;28mself\u001b[39m, \u001b[38;5;28minput\u001b[39m: Tensor) \u001b[38;5;241m-\u001b[39m\u001b[38;5;241m>\u001b[39m Tensor:\n\u001b[0;32m--> 460\u001b[0m     \u001b[38;5;28;01mreturn\u001b[39;00m \u001b[38;5;28;43mself\u001b[39;49m\u001b[38;5;241;43m.\u001b[39;49m\u001b[43m_conv_forward\u001b[49m\u001b[43m(\u001b[49m\u001b[38;5;28;43minput\u001b[39;49m\u001b[43m,\u001b[49m\u001b[43m \u001b[49m\u001b[38;5;28;43mself\u001b[39;49m\u001b[38;5;241;43m.\u001b[39;49m\u001b[43mweight\u001b[49m\u001b[43m,\u001b[49m\u001b[43m \u001b[49m\u001b[38;5;28;43mself\u001b[39;49m\u001b[38;5;241;43m.\u001b[39;49m\u001b[43mbias\u001b[49m\u001b[43m)\u001b[49m\n",
      "File \u001b[0;32m~/.local/lib/python3.10/site-packages/torch/nn/modules/conv.py:456\u001b[0m, in \u001b[0;36mConv2d._conv_forward\u001b[0;34m(self, input, weight, bias)\u001b[0m\n\u001b[1;32m    452\u001b[0m \u001b[38;5;28;01mif\u001b[39;00m \u001b[38;5;28mself\u001b[39m\u001b[38;5;241m.\u001b[39mpadding_mode \u001b[38;5;241m!=\u001b[39m \u001b[38;5;124m'\u001b[39m\u001b[38;5;124mzeros\u001b[39m\u001b[38;5;124m'\u001b[39m:\n\u001b[1;32m    453\u001b[0m     \u001b[38;5;28;01mreturn\u001b[39;00m F\u001b[38;5;241m.\u001b[39mconv2d(F\u001b[38;5;241m.\u001b[39mpad(\u001b[38;5;28minput\u001b[39m, \u001b[38;5;28mself\u001b[39m\u001b[38;5;241m.\u001b[39m_reversed_padding_repeated_twice, mode\u001b[38;5;241m=\u001b[39m\u001b[38;5;28mself\u001b[39m\u001b[38;5;241m.\u001b[39mpadding_mode),\n\u001b[1;32m    454\u001b[0m                     weight, bias, \u001b[38;5;28mself\u001b[39m\u001b[38;5;241m.\u001b[39mstride,\n\u001b[1;32m    455\u001b[0m                     _pair(\u001b[38;5;241m0\u001b[39m), \u001b[38;5;28mself\u001b[39m\u001b[38;5;241m.\u001b[39mdilation, \u001b[38;5;28mself\u001b[39m\u001b[38;5;241m.\u001b[39mgroups)\n\u001b[0;32m--> 456\u001b[0m \u001b[38;5;28;01mreturn\u001b[39;00m \u001b[43mF\u001b[49m\u001b[38;5;241;43m.\u001b[39;49m\u001b[43mconv2d\u001b[49m\u001b[43m(\u001b[49m\u001b[38;5;28;43minput\u001b[39;49m\u001b[43m,\u001b[49m\u001b[43m \u001b[49m\u001b[43mweight\u001b[49m\u001b[43m,\u001b[49m\u001b[43m \u001b[49m\u001b[43mbias\u001b[49m\u001b[43m,\u001b[49m\u001b[43m \u001b[49m\u001b[38;5;28;43mself\u001b[39;49m\u001b[38;5;241;43m.\u001b[39;49m\u001b[43mstride\u001b[49m\u001b[43m,\u001b[49m\n\u001b[1;32m    457\u001b[0m \u001b[43m                \u001b[49m\u001b[38;5;28;43mself\u001b[39;49m\u001b[38;5;241;43m.\u001b[39;49m\u001b[43mpadding\u001b[49m\u001b[43m,\u001b[49m\u001b[43m \u001b[49m\u001b[38;5;28;43mself\u001b[39;49m\u001b[38;5;241;43m.\u001b[39;49m\u001b[43mdilation\u001b[49m\u001b[43m,\u001b[49m\u001b[43m \u001b[49m\u001b[38;5;28;43mself\u001b[39;49m\u001b[38;5;241;43m.\u001b[39;49m\u001b[43mgroups\u001b[49m\u001b[43m)\u001b[49m\n",
      "\u001b[0;31mRuntimeError\u001b[0m: Input type (torch.cuda.FloatTensor) and weight type (torch.FloatTensor) should be the same"
     ]
    }
   ],
   "source": [
    "logit_seg, logit_class = model(torch.from_numpy(x).to('cuda'), None)\n",
    "\n",
    "#logit_seg_numpy = logit_seg.squeeze().to('cpu').detach().numpy()\n",
    "logit_class = logit_class.squeeze().to('cpu').detach().numpy()\n",
    "\n",
    "##seg = torch.round(torch.sigmoid(logit_seg)).squeeze().to('cpu').detach().numpy()\n",
    "#seg = logit_seg.sigmoid().gt(.5).squeeze().to('cpu').detach().numpy()\n",
    "\n",
    "y_seg = torch.heaviside(torch.from_numpy(y).to('cuda'), torch.tensor([0]).float().to('cuda')).squeeze().to('cpu').detach().numpy()\n",
    "y_seg_num = np.squeeze(np.where(y>0.001, 1, 0))"
   ]
  },
  {
   "cell_type": "code",
   "execution_count": null,
   "id": "90bcba12-dca1-421a-a084-364da2b97ec8",
   "metadata": {
    "tags": []
   },
   "outputs": [],
   "source": [
    "#plt.imshow(seg, cmap='gray') #modello"
   ]
  },
  {
   "cell_type": "code",
   "execution_count": null,
   "id": "6e98d24e-22c2-4a9d-a768-6f99a538220e",
   "metadata": {
    "tags": []
   },
   "outputs": [],
   "source": [
    "#plt.imshow(y_seg_num, cmap='gray') #ground thruth"
   ]
  },
  {
   "cell_type": "code",
   "execution_count": null,
   "id": "2528c9b7-1b4a-4abb-987b-ca0d68b68188",
   "metadata": {
    "tags": []
   },
   "outputs": [],
   "source": [
    "#plt.imshow(y_seg_num-seg, cmap='gray') #parti bianche mancano nel modello"
   ]
  },
  {
   "cell_type": "code",
   "execution_count": null,
   "id": "0f7631e1-c3de-4d93-b6f0-b1b87f901869",
   "metadata": {},
   "outputs": [],
   "source": [
    "m=4\n",
    "norm='linear'\n",
    "vmin=0\n",
    "vmax=1/20\n",
    "fig, axs = plt.subplots(2, 3, figsize=(15, 7))\n",
    "axs[0, 0].imshow(x[m][0], cmap='gray', norm=norm, vmin=vmin, vmax=vmax)\n",
    "axs[0, 0].set_title('bol00')\n",
    "axs[0, 1].imshow(x[m][1], cmap='gray', norm=norm, vmin=vmin, vmax=vmax)\n",
    "axs[0, 1].set_title('c2200')\n",
    "axs[1, 0].imshow(x[m][2], cmap='gray', norm=norm, vmin=vmin, vmax=vmax)\n",
    "axs[1, 0].set_title('c5m00')\n",
    "axs[1, 1].imshow(x[m][3], cmap='gray', norm=norm, vmin=vmin, vmax=vmax)\n",
    "axs[1, 1].set_title('e1000')\n",
    "axs[0, 2].imshow(y[m], cmap='gray', norm=norm, vmin=vmin, vmax=vmax)\n",
    "axs[0, 2].set_title('ground_thruth')\n",
    "axs[1, 2].imshow(logit_class[m], cmap='gray', norm=norm, vmin=vmin, vmax=vmax)\n",
    "axs[1, 2].set_title('model_pred')"
   ]
  },
  {
   "cell_type": "code",
   "execution_count": null,
   "id": "3ef30f7d-5915-4be1-9259-9efdd454133b",
   "metadata": {
    "tags": []
   },
   "outputs": [],
   "source": [
    "histo = (logit_class*case_study_max*mask).flatten()\n",
    "\n",
    "plt.hist(histo[histo>0], bins=np.linspace(0,10, 100))\n",
    "plt.show()"
   ]
  },
  {
   "cell_type": "code",
   "execution_count": null,
   "id": "582b5cfb-f527-48e8-a2ca-5832f124cef6",
   "metadata": {},
   "outputs": [],
   "source": [
    "histo = (y*case_study_max*mask).flatten()\n",
    "\n",
    "plt.hist(histo[histo>0], bins=np.linspace(0,10, 100))\n",
    "plt.show()"
   ]
  },
  {
   "cell_type": "code",
   "execution_count": null,
   "id": "9553501c-e2bf-4a1d-9cbe-3db9a29e622f",
   "metadata": {
    "tags": []
   },
   "outputs": [],
   "source": [
    "y_r = np.reshape(y*mask, (63, 128*96))\n",
    "logit_class_r = np.reshape(logit_class*mask, (63, 128*96))\n",
    "RMSE = np.sqrt(np.square(y_r*case_study_max-logit_class_r*case_study_max).sum(0)/63)\n",
    "plt.hist(RMSE[RMSE>0], bins=np.linspace(0,20, 100))\n",
    "plt.title(\"modello\")\n",
    "plt.show()\n",
    "RMSE.sum(), np.shape(RMSE)"
   ]
  },
  {
   "cell_type": "code",
   "execution_count": null,
   "id": "6a55b349-a28b-437a-9c87-2983bb8b8cce",
   "metadata": {
    "tags": []
   },
   "outputs": [],
   "source": [
    "x1_r = np.reshape(x, (63, 4, 128*96)).mean(1)\n",
    "RMSE = np.sqrt(np.square(y_r*case_study_max-x1_r*case_study_max).sum(0)/63)\n",
    "plt.hist(RMSE[RMSE>0], bins=np.linspace(0,20, 100))\n",
    "plt.title(\"modello matematico\")\n",
    "plt.show()\n",
    "RMSE.sum(), np.shape(RMSE)"
   ]
  },
  {
   "cell_type": "code",
   "execution_count": null,
   "id": "cfc7dba4-ef93-4665-ad94-ab090e1985c9",
   "metadata": {
    "tags": []
   },
   "outputs": [],
   "source": [
    "np.sqrt(np.square(y*case_study_max-logit_class*case_study_max).mean())"
   ]
  },
  {
   "cell_type": "code",
   "execution_count": null,
   "id": "3c0fb49e-b359-4560-8340-ab2af1a96590",
   "metadata": {},
   "outputs": [],
   "source": [
    "from sklearn.metrics import root_mean_squared_error\n",
    "sum=0\n",
    "for i in range(63):\n",
    "    sum+=np.square(root_mean_squared_error(y_r[i]*case_study_max, logit_class_r[i]*case_study_max))\n",
    "sum/=63\n",
    "np.sqrt(sum)"
   ]
  },
  {
   "cell_type": "code",
   "execution_count": null,
   "id": "e635c778-db61-4f68-8c49-0a2eb4c49deb",
   "metadata": {
    "tags": []
   },
   "outputs": [],
   "source": [
    "import torch.nn as nn"
   ]
  },
  {
   "cell_type": "code",
   "execution_count": 56,
   "id": "7bb2e3ed-a6aa-445d-884a-d1d2bdaf5c86",
   "metadata": {
    "tags": []
   },
   "outputs": [
    {
     "data": {
      "text/plain": [
       "tensor(5.0207)"
      ]
     },
     "execution_count": 56,
     "metadata": {},
     "output_type": "execute_result"
    }
   ],
   "source": [
    "(nn.MSELoss()(torch.tensor(logit_class).cpu(), torch.tensor(y).cpu())*case_study_max**2)**.5"
   ]
  },
  {
   "cell_type": "code",
   "execution_count": 36,
   "id": "b51aaf56-5b31-4b1a-a1e1-fbc0e7338df4",
   "metadata": {
    "tags": []
   },
   "outputs": [
    {
     "name": "stderr",
     "output_type": "stream",
     "text": [
      "GPU available: True (cuda), used: True\n",
      "TPU available: False, using: 0 TPU cores\n",
      "IPU available: False, using: 0 IPUs\n",
      "HPU available: False, using: 0 HPUs\n",
      "LOCAL_RANK: 0 - CUDA_VISIBLE_DEVICES: [0]\n"
     ]
    },
    {
     "name": "stdout",
     "output_type": "stream",
     "text": [
      "Testing DataLoader 0:   0%|          | 0/1 [00:00<?, ?it/s]sum pred: 5846.00634765625, sum pred*mask: 5846.00634765625, sum y: 5164.935546875, sum y*mask: 5164.935546875\n",
      "y shape: torch.Size([63, 96, 128]), y_hat shape: torch.Size([63, 96, 128]), x0 shape: torch.Size([63, 96, 128]), x1 shape: torch.Size([63, 96, 128]), x2 shape: torch.Size([63, 96, 128]), x3 shape: torch.Size([63, 96, 128])\n",
      "np.rmse: 13.77782154083252\n",
      "torch loss: 5.517566204071045\n",
      "tensor(5917.0889, device='cuda:0')\n",
      "tensor(5943.9141, device='cuda:0')\n",
      "tensor(5685.8018, device='cuda:0')\n",
      "tensor(5465.8862, device='cuda:0')\n",
      "Testing DataLoader 0: 100%|██████████| 1/1 [00:00<00:00,  4.08it/s]\n"
     ]
    },
    {
     "name": "stderr",
     "output_type": "stream",
     "text": [
      "/home/students/s265780/rainfall-prediction/models.py:168: UserWarning: To copy construct from a tensor, it is recommended to use sourceTensor.clone().detach() or sourceTensor.clone().detach().requires_grad_(True), rather than torch.tensor(sourceTensor).\n",
      "  print(torch.tensor(x[:, i]).sum())\n"
     ]
    },
    {
     "data": {
      "text/html": [
       "<pre style=\"white-space:pre;overflow-x:auto;line-height:normal;font-family:Menlo,'DejaVu Sans Mono',consolas,'Courier New',monospace\">┏━━━━━━━━━━━━━━━━━━━━━━━━━━━┳━━━━━━━━━━━━━━━━━━━━━━━━━━━┓\n",
       "┃<span style=\"font-weight: bold\">        Test metric        </span>┃<span style=\"font-weight: bold\">       DataLoader 0        </span>┃\n",
       "┡━━━━━━━━━━━━━━━━━━━━━━━━━━━╇━━━━━━━━━━━━━━━━━━━━━━━━━━━┩\n",
       "│<span style=\"color: #008080; text-decoration-color: #008080\">        rmse NWP 0         </span>│<span style=\"color: #800080; text-decoration-color: #800080\">     8.034293174743652     </span>│\n",
       "│<span style=\"color: #008080; text-decoration-color: #008080\">        rmse NWP 1         </span>│<span style=\"color: #800080; text-decoration-color: #800080\">     5.912471294403076     </span>│\n",
       "│<span style=\"color: #008080; text-decoration-color: #008080\">        rmse NWP 2         </span>│<span style=\"color: #800080; text-decoration-color: #800080\">     8.256181716918945     </span>│\n",
       "│<span style=\"color: #008080; text-decoration-color: #008080\">        rmse NWP 3         </span>│<span style=\"color: #800080; text-decoration-color: #800080\">     7.918542385101318     </span>│\n",
       "│<span style=\"color: #008080; text-decoration-color: #008080\">         test rmse         </span>│<span style=\"color: #800080; text-decoration-color: #800080\">     5.517565727233887     </span>│\n",
       "└───────────────────────────┴───────────────────────────┘\n",
       "</pre>\n"
      ],
      "text/plain": [
       "┏━━━━━━━━━━━━━━━━━━━━━━━━━━━┳━━━━━━━━━━━━━━━━━━━━━━━━━━━┓\n",
       "┃\u001b[1m \u001b[0m\u001b[1m       Test metric       \u001b[0m\u001b[1m \u001b[0m┃\u001b[1m \u001b[0m\u001b[1m      DataLoader 0       \u001b[0m\u001b[1m \u001b[0m┃\n",
       "┡━━━━━━━━━━━━━━━━━━━━━━━━━━━╇━━━━━━━━━━━━━━━━━━━━━━━━━━━┩\n",
       "│\u001b[36m \u001b[0m\u001b[36m       rmse NWP 0        \u001b[0m\u001b[36m \u001b[0m│\u001b[35m \u001b[0m\u001b[35m    8.034293174743652    \u001b[0m\u001b[35m \u001b[0m│\n",
       "│\u001b[36m \u001b[0m\u001b[36m       rmse NWP 1        \u001b[0m\u001b[36m \u001b[0m│\u001b[35m \u001b[0m\u001b[35m    5.912471294403076    \u001b[0m\u001b[35m \u001b[0m│\n",
       "│\u001b[36m \u001b[0m\u001b[36m       rmse NWP 2        \u001b[0m\u001b[36m \u001b[0m│\u001b[35m \u001b[0m\u001b[35m    8.256181716918945    \u001b[0m\u001b[35m \u001b[0m│\n",
       "│\u001b[36m \u001b[0m\u001b[36m       rmse NWP 3        \u001b[0m\u001b[36m \u001b[0m│\u001b[35m \u001b[0m\u001b[35m    7.918542385101318    \u001b[0m\u001b[35m \u001b[0m│\n",
       "│\u001b[36m \u001b[0m\u001b[36m        test rmse        \u001b[0m\u001b[36m \u001b[0m│\u001b[35m \u001b[0m\u001b[35m    5.517565727233887    \u001b[0m\u001b[35m \u001b[0m│\n",
       "└───────────────────────────┴───────────────────────────┘\n"
      ]
     },
     "metadata": {},
     "output_type": "display_data"
    },
    {
     "data": {
      "text/plain": [
       "[{'test rmse': 5.517565727233887,\n",
       "  'rmse NWP 0': 8.034293174743652,\n",
       "  'rmse NWP 1': 5.912471294403076,\n",
       "  'rmse NWP 2': 8.256181716918945,\n",
       "  'rmse NWP 3': 7.918542385101318}]"
      ]
     },
     "execution_count": 36,
     "metadata": {},
     "output_type": "execute_result"
    }
   ],
   "source": [
    "\n",
    "trainer = pl.Trainer(\n",
    "        accelerator='gpu' if cuda.is_available() else 'cpu',\n",
    "        callbacks=[],\n",
    "\t\tlog_every_n_steps=1\n",
    "    )\n",
    "\n",
    "model = SegmentationModel.load_from_checkpoint(Path(\"reports/unet/unet/epoch=85-val_rmse=7.04.ckpt\"))\n",
    "trainer.test(model)"
   ]
  },
  {
   "cell_type": "code",
   "execution_count": 51,
   "id": "5ff2e794-c378-4fb3-9f0f-89382a007db1",
   "metadata": {},
   "outputs": [
    {
     "name": "stdout",
     "output_type": "stream",
     "text": [
      "8.034293\n",
      "5.912471\n",
      "8.256181\n",
      "7.9185424\n"
     ]
    }
   ],
   "source": [
    "for i in range(4):\n",
    "    print(np.sqrt(np.square(y*case_study_max-x[:,i]*case_study_max).mean()))"
   ]
  },
  {
   "cell_type": "code",
   "execution_count": 52,
   "id": "a417eb7a-8df4-44ab-9bee-197f727cd74b",
   "metadata": {},
   "outputs": [
    {
     "name": "stdout",
     "output_type": "stream",
     "text": [
      "tensor(5917.0884)\n",
      "tensor(5943.9141)\n",
      "tensor(5685.8018)\n",
      "tensor(5465.8862)\n"
     ]
    }
   ],
   "source": [
    "for i in range(4):\n",
    "    print(torch.tensor(x[:, i]).sum())"
   ]
  },
  {
   "cell_type": "code",
   "execution_count": 53,
   "id": "e0e94412-ff37-4c50-9c11-40852d66b853",
   "metadata": {
    "tags": []
   },
   "outputs": [
    {
     "data": {
      "text/plain": [
       "tensor(0.)"
      ]
     },
     "execution_count": 53,
     "metadata": {},
     "output_type": "execute_result"
    }
   ],
   "source": [
    "torch.bernoulli(torch.tensor(.1))"
   ]
  },
  {
   "cell_type": "code",
   "execution_count": null,
   "id": "5fdbc542-ba69-4129-a775-03055bb08bed",
   "metadata": {},
   "outputs": [],
   "source": []
  },
  {
   "cell_type": "code",
   "execution_count": null,
   "id": "74ec33eb-fc01-4c7a-8ddf-3807e96f5066",
   "metadata": {},
   "outputs": [],
   "source": []
  },
  {
   "cell_type": "code",
   "execution_count": null,
   "id": "ba0bbf55-cb4d-460a-9a3a-5b25ff0a57e3",
   "metadata": {},
   "outputs": [],
   "source": []
  }
 ],
 "metadata": {
  "kernelspec": {
   "display_name": "Python [conda env:py310]",
   "language": "python",
   "name": "conda-env-py310-py"
  },
  "language_info": {
   "codemirror_mode": {
    "name": "ipython",
    "version": 3
   },
   "file_extension": ".py",
   "mimetype": "text/x-python",
   "name": "python",
   "nbconvert_exporter": "python",
   "pygments_lexer": "ipython3",
   "version": "3.10.10"
  }
 },
 "nbformat": 4,
 "nbformat_minor": 5
}
