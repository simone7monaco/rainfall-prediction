{
 "cells": [
  {
   "cell_type": "code",
   "execution_count": 2,
   "id": "e5e4a40a-bfe1-4296-88b2-6f07be1c9abc",
   "metadata": {
    "tags": []
   },
   "outputs": [],
   "source": [
    "from pathlib import Path\n",
    "import torch\n",
    "import numpy as np\n",
    "import os\n",
    "\n",
    "from torch import cuda\n",
    "import pytorch_lightning as pl\n",
    "from pytorch_lightning.callbacks.model_checkpoint import ModelCheckpoint\n",
    "import seaborn as sns\n",
    "import matplotlib.pyplot as plt\n",
    "\n",
    "os.chdir(\"..\")\n",
    "from utils import io\n",
    "from models import SegmentationModel"
   ]
  },
  {
   "cell_type": "code",
   "execution_count": null,
   "id": "6ce20626-88ef-4500-9e47-6dadb415cd9b",
   "metadata": {
    "tags": []
   },
   "outputs": [],
   "source": [
    "#reports/unet_2/unet_2/epoch=85-val_rmse=7.71.ckpt  first ok\n",
    "#reports/unet_2/unet_2/epoch=86-val_rmse=8.59.ckpt add torch.where()\n",
    "#reports/unet_2/unet_2/epoch=72-val_rmse=7.35.ckpt add mask mult\n",
    "\n",
    "model = SegmentationModel.load_from_checkpoint(Path(\"rainfall-prediction/reports/unet_2/unet_2/epoch=64-val_rmse=5.22.ckpt\"))"
   ]
  },
  {
   "cell_type": "code",
   "execution_count": null,
   "id": "5698fa5a-3850-4870-a24e-add77b44ba50",
   "metadata": {
    "tags": []
   },
   "outputs": [],
   "source": [
    "model.eval();"
   ]
  },
  {
   "cell_type": "code",
   "execution_count": 7,
   "id": "a048cce0-2db0-4133-b78c-4ea99664b64c",
   "metadata": {
    "tags": []
   },
   "outputs": [],
   "source": [
    "input_path = Path(\"data/24h_10mmMAX_OI\")\n",
    "indices_one, indices_zero, mask = io.get_mask_indices(input_path, True) #why False?\n",
    "case_study_max=483.717752\n",
    "available_models = [\"bol00\", \"e1000\", \"c2200\", \"c5m00\"]\n",
    "x, y, in_features, out_features = io.load_data('unet', input_path, [\"20180706\"], case_study_max, indices_one, indices_zero, available_models)\n"
   ]
  },
  {
   "cell_type": "code",
   "execution_count": 8,
   "id": "8e338be1-9719-4ddf-a83a-78022b22836d",
   "metadata": {
    "tags": []
   },
   "outputs": [
    {
     "ename": "TypeError",
     "evalue": "SegmentationModel.forward() takes 3 positional arguments but 4 were given",
     "output_type": "error",
     "traceback": [
      "\u001b[0;31m---------------------------------------------------------------------------\u001b[0m",
      "\u001b[0;31mTypeError\u001b[0m                                 Traceback (most recent call last)",
      "Cell \u001b[0;32mIn[8], line 1\u001b[0m\n\u001b[0;32m----> 1\u001b[0m logit_seg, logit_class \u001b[38;5;241m=\u001b[39m \u001b[43mmodel\u001b[49m\u001b[43m(\u001b[49m\u001b[43mtorch\u001b[49m\u001b[38;5;241;43m.\u001b[39;49m\u001b[43mfrom_numpy\u001b[49m\u001b[43m(\u001b[49m\u001b[43mx\u001b[49m\u001b[43m)\u001b[49m\u001b[38;5;241;43m.\u001b[39;49m\u001b[43mto\u001b[49m\u001b[43m(\u001b[49m\u001b[38;5;124;43m'\u001b[39;49m\u001b[38;5;124;43mcuda\u001b[39;49m\u001b[38;5;124;43m'\u001b[39;49m\u001b[43m)\u001b[49m\u001b[43m,\u001b[49m\u001b[43m \u001b[49m\u001b[38;5;28;43;01mNone\u001b[39;49;00m\u001b[43m,\u001b[49m\u001b[43m \u001b[49m\u001b[38;5;28;43;01mNone\u001b[39;49;00m\u001b[43m)\u001b[49m\n\u001b[1;32m      3\u001b[0m logit_seg_numpy \u001b[38;5;241m=\u001b[39m logit_seg\u001b[38;5;241m.\u001b[39msqueeze()\u001b[38;5;241m.\u001b[39mto(\u001b[38;5;124m'\u001b[39m\u001b[38;5;124mcpu\u001b[39m\u001b[38;5;124m'\u001b[39m)\u001b[38;5;241m.\u001b[39mdetach()\u001b[38;5;241m.\u001b[39mnumpy()\n\u001b[1;32m      4\u001b[0m logit_class \u001b[38;5;241m=\u001b[39m logit_class\u001b[38;5;241m.\u001b[39msqueeze()\u001b[38;5;241m.\u001b[39mto(\u001b[38;5;124m'\u001b[39m\u001b[38;5;124mcpu\u001b[39m\u001b[38;5;124m'\u001b[39m)\u001b[38;5;241m.\u001b[39mdetach()\u001b[38;5;241m.\u001b[39mnumpy()\n",
      "File \u001b[0;32m~/.local/lib/python3.10/site-packages/torch/nn/modules/module.py:1511\u001b[0m, in \u001b[0;36mModule._wrapped_call_impl\u001b[0;34m(self, *args, **kwargs)\u001b[0m\n\u001b[1;32m   1509\u001b[0m     \u001b[38;5;28;01mreturn\u001b[39;00m \u001b[38;5;28mself\u001b[39m\u001b[38;5;241m.\u001b[39m_compiled_call_impl(\u001b[38;5;241m*\u001b[39margs, \u001b[38;5;241m*\u001b[39m\u001b[38;5;241m*\u001b[39mkwargs)  \u001b[38;5;66;03m# type: ignore[misc]\u001b[39;00m\n\u001b[1;32m   1510\u001b[0m \u001b[38;5;28;01melse\u001b[39;00m:\n\u001b[0;32m-> 1511\u001b[0m     \u001b[38;5;28;01mreturn\u001b[39;00m \u001b[38;5;28;43mself\u001b[39;49m\u001b[38;5;241;43m.\u001b[39;49m\u001b[43m_call_impl\u001b[49m\u001b[43m(\u001b[49m\u001b[38;5;241;43m*\u001b[39;49m\u001b[43margs\u001b[49m\u001b[43m,\u001b[49m\u001b[43m \u001b[49m\u001b[38;5;241;43m*\u001b[39;49m\u001b[38;5;241;43m*\u001b[39;49m\u001b[43mkwargs\u001b[49m\u001b[43m)\u001b[49m\n",
      "File \u001b[0;32m~/.local/lib/python3.10/site-packages/torch/nn/modules/module.py:1520\u001b[0m, in \u001b[0;36mModule._call_impl\u001b[0;34m(self, *args, **kwargs)\u001b[0m\n\u001b[1;32m   1515\u001b[0m \u001b[38;5;66;03m# If we don't have any hooks, we want to skip the rest of the logic in\u001b[39;00m\n\u001b[1;32m   1516\u001b[0m \u001b[38;5;66;03m# this function, and just call forward.\u001b[39;00m\n\u001b[1;32m   1517\u001b[0m \u001b[38;5;28;01mif\u001b[39;00m \u001b[38;5;129;01mnot\u001b[39;00m (\u001b[38;5;28mself\u001b[39m\u001b[38;5;241m.\u001b[39m_backward_hooks \u001b[38;5;129;01mor\u001b[39;00m \u001b[38;5;28mself\u001b[39m\u001b[38;5;241m.\u001b[39m_backward_pre_hooks \u001b[38;5;129;01mor\u001b[39;00m \u001b[38;5;28mself\u001b[39m\u001b[38;5;241m.\u001b[39m_forward_hooks \u001b[38;5;129;01mor\u001b[39;00m \u001b[38;5;28mself\u001b[39m\u001b[38;5;241m.\u001b[39m_forward_pre_hooks\n\u001b[1;32m   1518\u001b[0m         \u001b[38;5;129;01mor\u001b[39;00m _global_backward_pre_hooks \u001b[38;5;129;01mor\u001b[39;00m _global_backward_hooks\n\u001b[1;32m   1519\u001b[0m         \u001b[38;5;129;01mor\u001b[39;00m _global_forward_hooks \u001b[38;5;129;01mor\u001b[39;00m _global_forward_pre_hooks):\n\u001b[0;32m-> 1520\u001b[0m     \u001b[38;5;28;01mreturn\u001b[39;00m \u001b[43mforward_call\u001b[49m\u001b[43m(\u001b[49m\u001b[38;5;241;43m*\u001b[39;49m\u001b[43margs\u001b[49m\u001b[43m,\u001b[49m\u001b[43m \u001b[49m\u001b[38;5;241;43m*\u001b[39;49m\u001b[38;5;241;43m*\u001b[39;49m\u001b[43mkwargs\u001b[49m\u001b[43m)\u001b[49m\n\u001b[1;32m   1522\u001b[0m \u001b[38;5;28;01mtry\u001b[39;00m:\n\u001b[1;32m   1523\u001b[0m     result \u001b[38;5;241m=\u001b[39m \u001b[38;5;28;01mNone\u001b[39;00m\n",
      "\u001b[0;31mTypeError\u001b[0m: SegmentationModel.forward() takes 3 positional arguments but 4 were given"
     ]
    }
   ],
   "source": [
    "logit_seg, logit_class = model(torch.from_numpy(x).to('cuda'), None, None)\n",
    "\n",
    "logit_seg_numpy = logit_seg.squeeze().to('cpu').detach().numpy()\n",
    "logit_class = logit_class.squeeze().to('cpu').detach().numpy()\n",
    "\n",
    "#seg = torch.round(torch.sigmoid(logit_seg)).squeeze().to('cpu').detach().numpy()\n",
    "seg = logit_seg.sigmoid().gt(.5).squeeze().to('cpu').detach().numpy()\n",
    "\n",
    "y_seg = torch.heaviside(torch.from_numpy(y).to('cuda'), torch.tensor([0]).float().to('cuda')).squeeze().to('cpu').detach().numpy()\n",
    "y_seg_num = np.squeeze(np.where(y>0.001, 1, 0))"
   ]
  },
  {
   "cell_type": "code",
   "execution_count": null,
   "id": "90bcba12-dca1-421a-a084-364da2b97ec8",
   "metadata": {
    "tags": []
   },
   "outputs": [],
   "source": [
    "plt.imshow(seg, cmap='gray') #modello"
   ]
  },
  {
   "cell_type": "code",
   "execution_count": null,
   "id": "6e98d24e-22c2-4a9d-a768-6f99a538220e",
   "metadata": {
    "tags": []
   },
   "outputs": [],
   "source": [
    "plt.imshow(y_seg_num, cmap='gray') #ground thruth"
   ]
  },
  {
   "cell_type": "code",
   "execution_count": null,
   "id": "2528c9b7-1b4a-4abb-987b-ca0d68b68188",
   "metadata": {
    "tags": []
   },
   "outputs": [],
   "source": [
    "plt.imshow(y_seg_num-seg, cmap='gray') #parti bianche mancano nel modello"
   ]
  },
  {
   "cell_type": "code",
   "execution_count": null,
   "id": "0f7631e1-c3de-4d93-b6f0-b1b87f901869",
   "metadata": {},
   "outputs": [],
   "source": [
    "fig, axs = plt.subplots(2, 3)\n",
    "axs[0, 0].imshow(x[0][0], cmap='gray', norm='linear')\n",
    "axs[0, 0].set_title('bol00')\n",
    "axs[0, 1].imshow(x[0][1], cmap='gray', norm='linear')\n",
    "axs[0, 1].set_title('c2200')\n",
    "axs[1, 0].imshow(x[0][2], cmap='gray', norm='linear')\n",
    "axs[1, 0].set_title('c5m00')\n",
    "axs[1, 1].imshow(x[0][3], cmap='gray', norm='linear')\n",
    "axs[1, 1].set_title('e1000')\n",
    "axs[0, 2].imshow(y[0], cmap='gray', norm='linear')\n",
    "axs[0, 2].set_title('ground_thruth')\n",
    "axs[1, 2].imshow(logit_class*mask, cmap='gray', norm='linear')\n",
    "axs[1, 2].set_title('model_pred')"
   ]
  },
  {
   "cell_type": "code",
   "execution_count": null,
   "id": "3ef30f7d-5915-4be1-9259-9efdd454133b",
   "metadata": {
    "tags": []
   },
   "outputs": [],
   "source": [
    "mask.sum()"
   ]
  },
  {
   "cell_type": "code",
   "execution_count": null,
   "id": "582b5cfb-f527-48e8-a2ca-5832f124cef6",
   "metadata": {},
   "outputs": [],
   "source": []
  }
 ],
 "metadata": {
  "kernelspec": {
   "display_name": "Python [conda env:py310]",
   "language": "python",
   "name": "conda-env-py310-py"
  },
  "language_info": {
   "codemirror_mode": {
    "name": "ipython",
    "version": 3
   },
   "file_extension": ".py",
   "mimetype": "text/x-python",
   "name": "python",
   "nbconvert_exporter": "python",
   "pygments_lexer": "ipython3",
   "version": "3.10.10"
  }
 },
 "nbformat": 4,
 "nbformat_minor": 5
}
