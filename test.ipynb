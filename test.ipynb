{
 "cells": [
  {
   "cell_type": "code",
   "execution_count": 1,
   "metadata": {
    "metadata": {}
   },
   "outputs": [],
   "source": [
    "from pathlib import Path\n",
    "import pandas as pd\n",
    "import numpy as np\n",
    "import matplotlib.pyplot as plt\n",
    "from utils import io"
   ]
  },
  {
   "cell_type": "code",
   "execution_count": 6,
   "metadata": {
    "metadata": {}
   },
   "outputs": [],
   "source": [
    "splitdir = Path(\"/media/monaco/DATA1/case_study/24h_10mmMAX_OI/split\")\n",
    "convective = pd.read_csv(splitdir / \"cluster_convective.csv\", sep=\";\")\n",
    "intermediate = pd.read_csv(splitdir / \"cluster_intermediate.csv\", sep=\";\")\n",
    "stratiform = pd.read_csv(splitdir / \"cluster_stratiform.csv\", sep=\";\")\n",
    "\n",
    "dates = pd.concat([\n",
    "    convective.assign(NAME=\"convective\"),\n",
    "    intermediate.assign(NAME=\"intermediate\"),\n",
    "    stratiform.assign(NAME=\"stratiform\")\n",
    "])"
   ]
  },
  {
   "cell_type": "code",
   "execution_count": 7,
   "metadata": {
    "metadata": {}
   },
   "outputs": [
    {
     "name": "stdout",
     "output_type": "stream",
     "text": [
      "314 45 45\n"
     ]
    }
   ],
   "source": [
    "from sklearn.model_selection import StratifiedKFold\n",
    "\n",
    "skf = StratifiedKFold(n_splits=9, random_state=42, shuffle=True)\n",
    "n_split = 2\n",
    "train_index, test_index = list(skf.split(dates, dates.NAME))[n_split]\n",
    "val_index, train_index = np.split(train_index, [len(test_index)])\n",
    "\n",
    "print(len(train_index), len(val_index), len(test_index))"
   ]
  },
  {
   "cell_type": "markdown",
   "metadata": {},
   "source": [
    "# Result analysis"
   ]
  },
  {
   "cell_type": "code",
   "execution_count": 7,
   "metadata": {},
   "outputs": [
    {
     "name": "stdout",
     "output_type": "stream",
     "text": [
      "lightning_logs/unet/split_5\n",
      "lightning_logs/unet/split_3\n",
      "lightning_logs/ensemble_unet/split_1\n",
      "lightning_logs/ensemble_unet/split_3\n",
      "lightning_logs/sde_unet/split_5\n",
      "lightning_logs/sde_unet/split_3\n"
     ]
    }
   ],
   "source": [
    "respath = Path(\"lightning_logs\")\n",
    "for model in respath.glob(\"[!_]*\"):\n",
    "    for split in model.glob(\"split_*\"):\n",
    "        for predpath in (split / \"test_images\").glob(\"_pred.png\"):\n",
    "            pred = Image.open(predpath).convert(\"L\")"
   ]
  },
  {
   "cell_type": "markdown",
   "metadata": {},
   "source": [
    "# Xtreme events"
   ]
  },
  {
   "cell_type": "code",
   "execution_count": 8,
   "metadata": {
    "metadata": {}
   },
   "outputs": [
    {
     "name": "stdout",
     "output_type": "stream",
     "text": [
      "315 45 45 405\n",
      "315 59 48 405\n"
     ]
    },
    {
     "ename": "AssertionError",
     "evalue": "File /media/monaco/DATA1/case_study/24h_10mmMAX_OI/models/bol00_20220606_0024_regrid.csv does not exist",
     "output_type": "error",
     "traceback": [
      "\u001b[0;31m---------------------------------------------------------------------------\u001b[0m",
      "\u001b[0;31mAssertionError\u001b[0m                            Traceback (most recent call last)",
      "Cell \u001b[0;32mIn[8], line 26\u001b[0m\n\u001b[1;32m     24\u001b[0m x_train, y_train, in_features, out_features \u001b[38;5;241m=\u001b[39m io\u001b[38;5;241m.\u001b[39mload_data(input_path, train_dates, case_study_max, indices_one, indices_zero, available_models)\n\u001b[1;32m     25\u001b[0m x_val, y_val, in_features, out_features \u001b[38;5;241m=\u001b[39m io\u001b[38;5;241m.\u001b[39mload_data(input_path, val_dates, case_study_max, indices_one, indices_zero, available_models)\n\u001b[0;32m---> 26\u001b[0m x_test, y_test, in_features, out_features \u001b[38;5;241m=\u001b[39m \u001b[43mio\u001b[49m\u001b[38;5;241;43m.\u001b[39;49m\u001b[43mload_data\u001b[49m\u001b[43m(\u001b[49m\u001b[43minput_path\u001b[49m\u001b[43m,\u001b[49m\u001b[43m \u001b[49m\u001b[43mtest_dates\u001b[49m\u001b[43m,\u001b[49m\u001b[43m \u001b[49m\u001b[43mcase_study_max\u001b[49m\u001b[43m,\u001b[49m\u001b[43m \u001b[49m\u001b[43mindices_one\u001b[49m\u001b[43m,\u001b[49m\u001b[43m \u001b[49m\u001b[43mindices_zero\u001b[49m\u001b[43m,\u001b[49m\u001b[43m \u001b[49m\u001b[43mavailable_models\u001b[49m\u001b[43m)\u001b[49m\n",
      "File \u001b[0;32m~/MultimodelPreci/scripts_simone/utils/io.py:75\u001b[0m, in \u001b[0;36mload_data\u001b[0;34m(topdir, dates, case_study_max, indices, indices_zero, available_models)\u001b[0m\n\u001b[1;32m     73\u001b[0m \u001b[38;5;66;03m#print(date)\u001b[39;00m\n\u001b[1;32m     74\u001b[0m \u001b[38;5;28;01mfor\u001b[39;00m model_name \u001b[38;5;129;01min\u001b[39;00m available_models:\n\u001b[0;32m---> 75\u001b[0m     _mdl_data \u001b[38;5;241m=\u001b[39m \u001b[43mget_model\u001b[49m\u001b[43m(\u001b[49m\u001b[43mtopdir\u001b[49m\u001b[43m,\u001b[49m\u001b[43m \u001b[49m\u001b[43mmodel_name\u001b[49m\u001b[43m,\u001b[49m\u001b[43m \u001b[49m\u001b[43mdate\u001b[49m\u001b[43m,\u001b[49m\u001b[43m \u001b[49m\u001b[43mcase_study_max\u001b[49m\u001b[43m)\u001b[49m\n\u001b[1;32m     76\u001b[0m     _mdl_data\u001b[38;5;241m=\u001b[39mnp\u001b[38;5;241m.\u001b[39mhstack((_mdl_data,np\u001b[38;5;241m.\u001b[39mzeros((_mdl_data\u001b[38;5;241m.\u001b[39mshape[\u001b[38;5;241m0\u001b[39m], \u001b[38;5;28mint\u001b[39m(\u001b[38;5;241m2\u001b[39m\u001b[38;5;241m*\u001b[39m\u001b[38;5;241m*\u001b[39mnp\u001b[38;5;241m.\u001b[39mceil(np\u001b[38;5;241m.\u001b[39mlog2(_mdl_data\u001b[38;5;241m.\u001b[39mshape[\u001b[38;5;241m1\u001b[39m]))) \u001b[38;5;241m-\u001b[39m _mdl_data\u001b[38;5;241m.\u001b[39mshape[\u001b[38;5;241m1\u001b[39m])))) \u001b[38;5;66;03m# **update:** this was hardcoded as (96, 12) [12 supposed to be 128]\u001b[39;00m\n\u001b[1;32m     77\u001b[0m     _mdl_data[indices_zero] \u001b[38;5;241m=\u001b[39m \u001b[38;5;241m0\u001b[39m\n",
      "File \u001b[0;32m~/MultimodelPreci/scripts_simone/utils/io.py:25\u001b[0m, in \u001b[0;36mget_model\u001b[0;34m(topdir, model_name, date, case_study_max)\u001b[0m\n\u001b[1;32m     23\u001b[0m \u001b[38;5;28;01mdef\u001b[39;00m \u001b[38;5;21mget_model\u001b[39m(topdir: \u001b[38;5;28mstr\u001b[39m, model_name: \u001b[38;5;28mstr\u001b[39m, date: \u001b[38;5;28mstr\u001b[39m, case_study_max: \u001b[38;5;28mfloat\u001b[39m) \u001b[38;5;241m-\u001b[39m\u001b[38;5;241m>\u001b[39m np\u001b[38;5;241m.\u001b[39mndarray:\n\u001b[1;32m     24\u001b[0m     file_path \u001b[38;5;241m=\u001b[39m os\u001b[38;5;241m.\u001b[39mpath\u001b[38;5;241m.\u001b[39mjoin(topdir, \u001b[38;5;124m\"\u001b[39m\u001b[38;5;124mmodels\u001b[39m\u001b[38;5;124m\"\u001b[39m, \u001b[38;5;124mf\u001b[39m\u001b[38;5;124m\"\u001b[39m\u001b[38;5;132;01m{\u001b[39;00mmodel_name\u001b[38;5;132;01m}\u001b[39;00m\u001b[38;5;124m_\u001b[39m\u001b[38;5;132;01m{\u001b[39;00mdate\u001b[38;5;132;01m}\u001b[39;00m\u001b[38;5;124m_0024_regrid.csv\u001b[39m\u001b[38;5;124m\"\u001b[39m)\n\u001b[0;32m---> 25\u001b[0m     \u001b[38;5;28;01massert\u001b[39;00m os\u001b[38;5;241m.\u001b[39mpath\u001b[38;5;241m.\u001b[39mexists(file_path), \u001b[38;5;124mf\u001b[39m\u001b[38;5;124m\"\u001b[39m\u001b[38;5;124mFile \u001b[39m\u001b[38;5;132;01m{\u001b[39;00mfile_path\u001b[38;5;132;01m}\u001b[39;00m\u001b[38;5;124m does not exist\u001b[39m\u001b[38;5;124m\"\u001b[39m\n\u001b[1;32m     26\u001b[0m     model_data \u001b[38;5;241m=\u001b[39m pd\u001b[38;5;241m.\u001b[39mread_csv(file_path, sep\u001b[38;5;241m=\u001b[39m\u001b[38;5;124m\"\u001b[39m\u001b[38;5;124m;\u001b[39m\u001b[38;5;124m\"\u001b[39m, header\u001b[38;5;241m=\u001b[39m\u001b[38;5;28;01mNone\u001b[39;00m)\u001b[38;5;241m.\u001b[39mto_numpy()\n\u001b[1;32m     27\u001b[0m     \u001b[38;5;28;01mreturn\u001b[39;00m model_data \u001b[38;5;241m/\u001b[39m case_study_max\n",
      "\u001b[0;31mAssertionError\u001b[0m: File /media/monaco/DATA1/case_study/24h_10mmMAX_OI/models/bol00_20220606_0024_regrid.csv does not exist"
     ]
    }
   ],
   "source": [
    "input_path = Path('/media/monaco/DATA1/case_study')\n",
    "n_split = 8\n",
    "case_study = '24h_10mmMAX_OI'\n",
    "input_path = input_path / case_study\n",
    "use_extreme = False\n",
    "\n",
    "case_study_max, available_models, train_dates, val_dates, test_dates, indices_one, indices_zero, mask, nx, ny = io.get_casestudy_stuff(\n",
    "    input_path, n_split, case_study=case_study, ispadded=True,\n",
    "    seed=42\n",
    ")\n",
    "\n",
    "print(len(train_dates), len(val_dates), len(test_dates), sum(len(x) for x in [train_dates, val_dates, test_dates]))\n",
    "\n",
    "from sklearn.model_selection import train_test_split\n",
    "test_dates1 = pd.concat([pd.read_csv(exev, header=None) for exev in input_path.glob('*extremeEvents.csv')])[0].values\n",
    "train_dates = np.array(list(set(train_dates).union(val_dates).union(test_dates).difference(test_dates1)))\n",
    "train_dates, val_dates = train_test_split(train_dates, train_size=315, random_state=42)\n",
    "test_dates = test_dates1\n",
    "print(len(train_dates), len(val_dates), len(test_dates), sum(len(x) for x in [train_dates, val_dates, test_dates])-17)\n",
    "\n",
    "\n",
    "\n",
    "\n",
    "x_train, y_train, in_features, out_features = io.load_data(input_path, train_dates, case_study_max, indices_one, indices_zero, available_models)\n",
    "x_val, y_val, in_features, out_features = io.load_data(input_path, val_dates, case_study_max, indices_one, indices_zero, available_models)\n",
    "x_test, y_test, in_features, out_features = io.load_data(input_path, test_dates, case_study_max, indices_one, indices_zero, available_models)"
   ]
  },
  {
   "cell_type": "code",
   "execution_count": 14,
   "metadata": {
    "metadata": {}
   },
   "outputs": [
    {
     "name": "stdout",
     "output_type": "stream",
     "text": [
      "tr\n",
      "vl\n",
      "ts\n",
      ">> 20220606\n",
      ">> 20220701\n",
      ">> 20220727\n",
      ">> 20220809\n",
      ">> 20220906\n",
      ">> 20220909\n",
      ">> 20220928\n",
      ">> 20221001\n",
      ">> 20221223\n",
      ">> 20230413\n",
      ">> 20230516\n",
      ">> 20230703\n",
      ">> 20230825\n",
      ">> 20230912\n",
      ">> 20231113\n",
      ">> 20231114\n",
      ">> 20240318\n"
     ]
    }
   ],
   "source": [
    "for n, sp in zip(['tr', 'vl', 'ts'], [train_dates, val_dates, test_dates]):\n",
    "    print(n)\n",
    "    for d in sp:\n",
    "        if not Path(f\"/media/monaco/DATA1/case_study/24h_10mmMAX_OI/models/bol00_{d}_0024_regrid.csv\").exists():\n",
    "            print('>>', d)"
   ]
  }
 ],
 "metadata": {
  "kernelspec": {
   "display_name": "base",
   "language": "python",
   "name": "python3"
  },
  "language_info": {
   "codemirror_mode": {
    "name": "ipython",
    "version": 3
   },
   "file_extension": ".py",
   "mimetype": "text/x-python",
   "name": "python",
   "nbconvert_exporter": "python",
   "pygments_lexer": "ipython3",
   "version": "3.10.13"
  }
 },
 "nbformat": 4,
 "nbformat_minor": 2
}
