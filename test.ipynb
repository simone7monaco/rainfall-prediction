{
 "cells": [
  {
   "cell_type": "code",
   "execution_count": 1,
   "metadata": {},
   "outputs": [],
   "source": [
    "from pathlib import Path\n",
    "import pandas as pd\n",
    "import numpy as np\n",
    "import matplotlib.pyplot as plt"
   ]
  },
  {
   "cell_type": "code",
   "execution_count": 2,
   "metadata": {},
   "outputs": [],
   "source": [
    "splitdir = Path(\"data/24h_10mmMAX_OI/split\")\n",
    "convective = pd.read_csv(splitdir / \"cluster_convective.csv\", sep=\";\")\n",
    "intermediate = pd.read_csv(splitdir / \"cluster_intermediate.csv\", sep=\";\")\n",
    "stratiform = pd.read_csv(splitdir / \"cluster_stratiform.csv\", sep=\";\")\n",
    "\n",
    "dates = pd.concat([\n",
    "    convective.assign(NAME=\"convective\"),\n",
    "    intermediate.assign(NAME=\"intermediate\"),\n",
    "    stratiform.assign(NAME=\"stratiform\")\n",
    "])"
   ]
  },
  {
   "cell_type": "code",
   "execution_count": 3,
   "metadata": {},
   "outputs": [],
   "source": [
    "from sklearn.model_selection import StratifiedKFold\n",
    "\n",
    "skf = StratifiedKFold(n_splits=9, random_state=42, shuffle=True)\n",
    "n_split = 2\n",
    "train_index, test_index = list(skf.split(dates, dates.NAME))[n_split]\n",
    "val_index, train_index = np.split(train_index, [len(test_index)])"
   ]
  },
  {
   "cell_type": "code",
   "execution_count": 4,
   "metadata": {},
   "outputs": [
    {
     "data": {
      "text/plain": [
       "(315, 45, 45)"
      ]
     },
     "execution_count": 4,
     "metadata": {},
     "output_type": "execute_result"
    }
   ],
   "source": [
    "len(train_index), len(val_index), len(test_index)"
   ]
  }
 ],
 "metadata": {
  "kernelspec": {
   "display_name": "base",
   "language": "python",
   "name": "python3"
  },
  "language_info": {
   "codemirror_mode": {
    "name": "ipython",
    "version": 3
   },
   "file_extension": ".py",
   "mimetype": "text/x-python",
   "name": "python",
   "nbconvert_exporter": "python",
   "pygments_lexer": "ipython3",
   "version": "3.10.13"
  }
 },
 "nbformat": 4,
 "nbformat_minor": 2
}
